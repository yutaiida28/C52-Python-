{
 "cells": [
  {
   "cell_type": "markdown",
   "id": "cb57ad41",
   "metadata": {
    "id": "distributed-animal"
   },
   "source": [
    "# NumPy I\n",
    "\n",
    "## Introduction\n",
    "\n",
    "Selon [Wikipédia](https://fr.wikipedia.org/wiki/NumPy), `NumPy` est une bibliothèque pour langage de programmation `Python`, destinée à **manipuler** des matrices ou **tableaux multidimensionnels** ainsi que des **fonctions mathématiques** opérant sur ces tableaux. \n",
    "\n",
    "`NumPy` est la bibliothèque le plus utilisée en `Python` pour réaliser des opérations mathématiques. En fait, plusieurs bibliothèques populaires sont basées ou utilisent `NumPy`. Son usage est considéré comme faisant partie des connaissances de base à posséder pour plusieurs branches informatiques utilisant `Python`. Entre autre, elle permet :\n",
    " - une performance de calcul sans comparable avec l'usage simple de Python\n",
    " - une abstraction de haut niveau sur les opérations matricielles et mathématiques sous-jacentes\n",
    " - l'écriture de code plus compact, facile à lire, facile à maintenir et facile à déboguer.\n",
    "\n",
    "`NumPy` est _de facto_ la bibliothèque la plus utilisée dans plusieurs branches scientifiques, technologiques et informatiques. D'ailleurs, certains projets ont été créé en Python pour utiliser `NumPy` et les bibliothèques dérivées, c'est tout dire! \n",
    "\n",
    "`NumPy` est largement inspirée de la technique de programmation réalisée par `Matlab`.\n",
    "\n",
    "Il vaut la peine de mentionner que la documentation de `NumPy` est excellente!\n",
    "\n",
    "## En bref\n",
    "\n",
    "`NumPy` offre : \n",
    " - information sur l'état des matrices\n",
    " - création de matrice\n",
    " - génération aléatoire\n",
    " - manipulation des matrices\n",
    " - un mécanisme d'indexation puissant\n",
    " - plusieurs fonctions et opérateurs mathématiques\n",
    " - vectorisation et _broadcasting_\n",
    "\n",
    "\n",
    "## Installation\n",
    "\n",
    "`pip install numpy`\n",
    "\n",
    "\n",
    "## Références\n",
    "\n",
    " - [NumPy](https://numpy.org/) et [documentation officielle](https://numpy.org/doc/)\n",
    " - [Real Python](https://realpython.com/numpy-tutorial/)"
   ]
  },
  {
   "cell_type": "markdown",
   "id": "262e71ca",
   "metadata": {
    "id": "united-variety"
   },
   "source": [
    "---\n",
    "\n",
    "## Mise en place\n",
    "\n",
    "### Importation de la librairie"
   ]
  },
  {
   "cell_type": "code",
   "execution_count": 3,
   "id": "d4e92baa",
   "metadata": {
    "executionInfo": {
     "elapsed": 108,
     "status": "ok",
     "timestamp": 1633088624321,
     "user": {
      "displayName": "Jean-Christophe Demers",
      "photoUrl": "https://lh3.googleusercontent.com/a/default-user=s64",
      "userId": "13622530223392298728"
     },
     "user_tz": 240
    },
    "id": "existing-messaging"
   },
   "outputs": [],
   "source": [
    "import numpy as np # l'alias np est généralement utilisé par convention"
   ]
  },
  {
   "cell_type": "markdown",
   "id": "00ec5401",
   "metadata": {},
   "source": []
  },
  {
   "cell_type": "markdown",
   "id": "766eb122",
   "metadata": {
    "id": "third-concern"
   },
   "source": [
    "### Création de fonctions utilitaires pour ce document"
   ]
  },
  {
   "cell_type": "code",
   "execution_count": null,
   "id": "7747ffcc",
   "metadata": {
    "executionInfo": {
     "elapsed": 2,
     "status": "ok",
     "timestamp": 1633088624435,
     "user": {
      "displayName": "Jean-Christophe Demers",
      "photoUrl": "https://lh3.googleusercontent.com/a/default-user=s64",
      "userId": "13622530223392298728"
     },
     "user_tz": 240
    },
    "id": "dense-upset"
   },
   "outputs": [],
   "source": [
    "def print_title(title, length = 80):\n",
    "    print('-' * (length - len(title) - 1), ' ', title, sep='')\n",
    "    \n",
    "def print_result(statement_string):\n",
    "    print_title(statement_string)\n",
    "    print(eval(statement_string))\n",
    "    \n",
    "def Sprint_demo(title, statement_string):\n",
    "    print_title(title)\n",
    "    print_result(statement_string)    "
   ]
  },
  {
   "cell_type": "markdown",
   "id": "318154ce",
   "metadata": {
    "id": "raising-cause"
   },
   "source": [
    "---\n",
    "\n",
    "## `ndarray`\n",
    "<div style=\"text-align: right\"><a href=\"https://numpy.org/doc/stable/reference/arrays.ndarray.html\">Documentation ndarray</a></div>\n",
    "\n",
    "La classe `ndarray` est au coeur de la bibliothèque `NumPy`. C'est elle qui supporte les matrices multi-dimensionnelles. La nommenclature `ndarray` vient de _N-dimensional array_ pour **matrice à _N_ dimensions**.\n",
    "\n",
    "Un objet `ndarray` est une structure de données décrite ainsi :\n",
    " - tableau à _N_ dimensions\n",
    " - les données sont contiguës en mémoire (linéairement organisé avec agencement flexible)\n",
    " - les données sont de types homogènes"
   ]
  },
  {
   "cell_type": "markdown",
   "id": "c1397dd1",
   "metadata": {
    "id": "familiar-baseball"
   },
   "source": [
    "### Création avec valeurs prédéterminées\n",
    "\n",
    "Voilà 3 exemples de création d'objets `ndarray` avec des valeurs prédéterminées :\n",
    " - 1D, entiers \n",
    " - 2D, entiers\n",
    " - 3D, réels"
   ]
  },
  {
   "cell_type": "code",
   "execution_count": 23,
   "id": "474dec30",
   "metadata": {
    "executionInfo": {
     "elapsed": 3,
     "status": "ok",
     "timestamp": 1633088624436,
     "user": {
      "displayName": "Jean-Christophe Demers",
      "photoUrl": "https://lh3.googleusercontent.com/a/default-user=s64",
      "userId": "13622530223392298728"
     },
     "user_tz": 240
    },
    "id": "seven-progressive"
   },
   "outputs": [],
   "source": [
    "# Création d'une matrice 1D d'entiers de taille 6\n",
    "data_1 = np.array([1, 2, 3, 4, 5, 6])\n",
    "\n",
    "# Création d'une matrice 2D d'entiers de taille 2 x 3\n",
    "data_2 = np.array([[1, 2, 3], \n",
    "                   [4, 5, 6]], np.uint16) # np.uint16 formalise le format à des entiers non signés de 16 bits\n",
    "\n",
    "# Création d'une matrice 3D de réels de taille 2 x 2 x 3\n",
    "data_3 = np.array([\n",
    "                   [  [1., 1.5, 2.],\n",
    "                      [3., 3.5, 4.] ],\n",
    "                   \n",
    "                   [  [9., 8.5, 8.],\n",
    "                      [7., 6.5, 6.] ]  \n",
    "                  ])"
   ]
  },
  {
   "cell_type": "markdown",
   "id": "4bb80ead",
   "metadata": {
    "id": "adjustable-convergence"
   },
   "source": [
    "### Attributs\n",
    "\n",
    "Plusieurs attributs décrivent la matrice :\n",
    " - `ndarray.dtype` : le type de données\n",
    " - `ndarray.ndim` : le nombre de dimensions\n",
    " - `ndarray.shape` : la forme de la matrice (un tuple décrivant la taille pour chacune des dimensions)\n",
    " - `ndarray.size` : le nombre d'éléments dans la matrice"
   ]
  },
  {
   "cell_type": "code",
   "execution_count": 24,
   "id": "b28d0823",
   "metadata": {
    "colab": {
     "base_uri": "https://localhost:8080/"
    },
    "executionInfo": {
     "elapsed": 104,
     "status": "ok",
     "timestamp": 1633088624538,
     "user": {
      "displayName": "Jean-Christophe Demers",
      "photoUrl": "https://lh3.googleusercontent.com/a/default-user=s64",
      "userId": "13622530223392298728"
     },
     "user_tz": 240
    },
    "id": "legal-executive",
    "outputId": "0034bd53-9773-4459-c537-ff2aa88fd0e9"
   },
   "outputs": [
    {
     "name": "stdout",
     "output_type": "stream",
     "text": [
      "----------------------------------------------------- Attributs ndarray : data_1\n",
      " - dtype : int64\n",
      " - ndim : 1\n",
      " - shape : (6,)\n",
      " - size : 6\n",
      "----------------------------------------------------- Attributs ndarray : data_2\n",
      " - dtype : uint16\n",
      " - ndim : 2\n",
      " - shape : (2, 3)\n",
      " - size : 6\n",
      "----------------------------------------------------- Attributs ndarray : data_3\n",
      " - dtype : float64\n",
      " - ndim : 3\n",
      " - shape : (2, 2, 3)\n",
      " - size : 12\n"
     ]
    }
   ],
   "source": [
    "def array_attributes(array_name):\n",
    "    print_title(f'Attributs ndarray : { array_name }')\n",
    "    print(f''' - dtype : {eval(array_name).dtype}\n",
    " - ndim : {eval(array_name).ndim}\n",
    " - shape : {eval(array_name).shape}\n",
    " - size : {eval(array_name).size}''')\n",
    "\n",
    "array_attributes('data_1')\n",
    "array_attributes('data_2')\n",
    "array_attributes('data_3')"
   ]
  },
  {
   "cell_type": "markdown",
   "id": "ae6d2384",
   "metadata": {
    "id": "steady-sympathy"
   },
   "source": [
    "### Création avec valeurs uniformes\n",
    "\n",
    " - `empty` : une matrice sans initialisation de valeurs (!)\n",
    " - `identity` : une matrice 2D identité (matrice carrée remplie de 0 sauf pour la diagonale qui est à 1)\n",
    " - `zeros` : une matrice remplie de valeur 0\n",
    " - `ones` : une matrice remplie de valeur 1\n",
    " - `full` : une matrice remplie de la même valeur "
   ]
  },
  {
   "cell_type": "code",
   "execution_count": 25,
   "id": "4b2ffc22",
   "metadata": {
    "colab": {
     "base_uri": "https://localhost:8080/"
    },
    "executionInfo": {
     "elapsed": 4,
     "status": "ok",
     "timestamp": 1633088624539,
     "user": {
      "displayName": "Jean-Christophe Demers",
      "photoUrl": "https://lh3.googleusercontent.com/a/default-user=s64",
      "userId": "13622530223392298728"
     },
     "user_tz": 240
    },
    "id": "shared-writing",
    "outputId": "f5ce6a10-549c-4644-cef6-469318ba8e4a"
   },
   "outputs": [
    {
     "name": "stdout",
     "output_type": "stream",
     "text": [
      "--------------------------------------------------------------- empty 2D : 2 x 3\n",
      "--------------------------------------------------------------- np.empty((2, 3))\n",
      "[[4.9e-324 9.9e-324 1.5e-323]\n",
      " [2.0e-323 2.5e-323 3.0e-323]]\n",
      "------------------------------------------------------------ identity 2D : 3 x 3\n",
      "----------------------------------------------------------------- np.identity(3)\n",
      "[[1. 0. 0.]\n",
      " [0. 1. 0.]\n",
      " [0. 0. 1.]]\n",
      "------------------------------------------------------------------ zeros 1D : 15\n",
      "------------------------------------------------------------------- np.zeros(15)\n",
      "[0. 0. 0. 0. 0. 0. 0. 0. 0. 0. 0. 0. 0. 0. 0.]\n",
      "--------------------------------------------------------------- ones 2D : 2 x 10\n",
      "--------------------------------------------------------------- np.ones((2, 10))\n",
      "[[1. 1. 1. 1. 1. 1. 1. 1. 1. 1.]\n",
      " [1. 1. 1. 1. 1. 1. 1. 1. 1. 1.]]\n",
      "----------------------------------------------- full 4D avec -10 : 2 x 2 x 3 x 4\n",
      "----------------------------------------------------- np.full((2, 2, 3, 4), -10)\n",
      "[[[[-10 -10 -10 -10]\n",
      "   [-10 -10 -10 -10]\n",
      "   [-10 -10 -10 -10]]\n",
      "\n",
      "  [[-10 -10 -10 -10]\n",
      "   [-10 -10 -10 -10]\n",
      "   [-10 -10 -10 -10]]]\n",
      "\n",
      "\n",
      " [[[-10 -10 -10 -10]\n",
      "   [-10 -10 -10 -10]\n",
      "   [-10 -10 -10 -10]]\n",
      "\n",
      "  [[-10 -10 -10 -10]\n",
      "   [-10 -10 -10 -10]\n",
      "   [-10 -10 -10 -10]]]]\n"
     ]
    }
   ],
   "source": [
    "print_demo('empty 2D : 2 x 3', \"np.empty((2, 3))\")\n",
    "print_demo('identity 2D : 3 x 3', \"np.identity(3)\")\n",
    "print_demo('zeros 1D : 15', \"np.zeros(15)\")\n",
    "print_demo('ones 2D : 2 x 10', \"np.ones((2, 10))\")\n",
    "print_demo('full 4D avec -10 : 2 x 2 x 3 x 4', \"np.full((2, 2, 3, 4), -10)\")"
   ]
  },
  {
   "cell_type": "markdown",
   "id": "1028fdfa",
   "metadata": {
    "id": "committed-investment"
   },
   "source": [
    "  ### Création avec valeurs générées\n",
    " \n",
    " - `arange` : une série linéaire (décrite par itération)\n",
    " - - de une valeur a un autre qui est exclue\n",
    " - `linspace` : une série linéaire (décrite par ses bornes et le nombre d'éléments)\n",
    " - - de une valeur a un autre qui est inclue\n",
    " - `meshgrid` : retourne un ensemble de matrices à partir de plusieurs vecteurs\n",
    " - `fromfunction` : toutes les valeurs sont calculées à partir d'une fonction\n",
    " - `fromiter` : à partir d'un itérateur"
   ]
  },
  {
   "cell_type": "code",
   "execution_count": 26,
   "id": "8da7232a",
   "metadata": {
    "colab": {
     "base_uri": "https://localhost:8080/"
    },
    "executionInfo": {
     "elapsed": 112,
     "status": "ok",
     "timestamp": 1633088624649,
     "user": {
      "displayName": "Jean-Christophe Demers",
      "photoUrl": "https://lh3.googleusercontent.com/a/default-user=s64",
      "userId": "13622530223392298728"
     },
     "user_tz": 240
    },
    "id": "romance-incident",
    "outputId": "e976a04e-5f28-44e5-b361-c5d54f0ff0bc"
   },
   "outputs": [
    {
     "name": "stdout",
     "output_type": "stream",
     "text": [
      "----------------------------------------------------------------- série de 0 à 9\n",
      "------------------------------------------------------------------ np.arange(10)\n",
      "[0 1 2 3 4 5 6 7 8 9]\n",
      "------------------------------------------------------- série de 0, 10, 20...100\n",
      "---------------------------------------------------------- np.arange(0, 110, 10)\n",
      "[  0  10  20  30  40  50  60  70  80  90 100]\n",
      "-------------------------------------------------- série de 11 données de 0 à 10\n",
      "------------------------------------------------------- np.linspace(0., 10., 11)\n",
      "[ 0.  1.  2.  3.  4.  5.  6.  7.  8.  9. 10.]\n",
      "--------------------------------------------------- série de 5 données de 0 à 10\n",
      "-------------------------------------------------------- np.linspace(0., 10., 5)\n",
      "[ 0.   2.5  5.   7.5 10. ]\n",
      "---------------------------------------------------------------------- x^2 + y^2\n",
      "--------------------------------------------- np.fromfunction(my_func_1, (2, 5))\n",
      "[[ 0.  1.  4.  9. 16.]\n",
      " [ 1.  2.  5. 10. 17.]]\n",
      "-------------------------------------------------- 100 par ligne + 1 par colonne\n",
      "--------------------------------------------- np.fromfunction(my_func_2, (2, 5))\n",
      "[[101. 102. 103. 104. 105.]\n",
      " [201. 202. 203. 204. 205.]]\n",
      "-------------------------------------------------------------- itérateur : i^2/2\n",
      "--------------------------------------------------- np.fromiter(iter1, np.int32)\n",
      "[ 0  0  2  4  8 12 18 24 32 40]\n",
      "-------------------------------------------------------- itérateur : série de pi\n",
      "------------------------------------------------- np.fromiter(iter2, np.float32)\n",
      "[ 4.0000000e+00 -1.3333334e+00  8.0000001e-01 ... -2.0000500e-05\n",
      "  2.0000300e-05 -2.0000100e-05]\n"
     ]
    }
   ],
   "source": [
    "print_demo('série de 0 à 9', \"np.arange(10)\")\n",
    "print_demo('série de 0, 10, 20...100', \"np.arange(0, 110, 10)\")\n",
    "print_demo('série de 11 données de 0 à 10', \"np.linspace(0., 10., 11)\")\n",
    "print_demo('série de 5 données de 0 à 10', \"np.linspace(0., 10., 5)\")\n",
    "\n",
    "\n",
    "def my_func_1(x, y): return x ** 2 + y ** 2\n",
    "def my_func_2(x, y): return (x + 1) * 100 + (y + 1)\n",
    "\n",
    "print_demo('x^2 + y^2', \"np.fromfunction(my_func_1, (2, 5))\")\n",
    "print_demo('100 par ligne + 1 par colonne', \"np.fromfunction(my_func_2, (2, 5))\")\n",
    "\n",
    "\n",
    "iter1 = [(i ** 2)/2 for i in range(10)]\n",
    "iter2 = (4 * ((-1) ** k)/(2 * k + 1) for k in range(100000))\n",
    "\n",
    "print_demo('itérateur : i^2/2', \"np.fromiter(iter1, np.int32)\")\n",
    "print_demo('itérateur : série de pi', \"np.fromiter(iter2, np.float32)\")"
   ]
  },
  {
   "cell_type": "markdown",
   "id": "3e335e5d",
   "metadata": {
    "id": "wooden-morocco"
   },
   "source": [
    "  ### Création et manipulations aléatoires\n",
    "  \n",
    "Il existe deux approches pour la génération de nombres aléatoires avec `NumPy`. On présente ici l'approche moderne. L'idée est d'utiliser un objet `rng` (_Random Number Generator_) du module `numpy.random`. Cet objet offre plusieurs fonctions permettant de générer des nombres aélatoires selon plusieurs distributions statistiques.\n",
    " - `default_rng` : génère un objet `rng`\n",
    "    - à même son constructeur, on peut définir le `seed` (pour avoir le meme point de depart donc fix???)\n",
    " - de cet objet, plusieurs outils sont disponibles :\n",
    "    - génération selon certaines distributions :\n",
    "        - `rng.integers` : distribution uniforme d'entiers (minimum et maximum)\n",
    "        - `rng.random` : distribution uniforme d'un réel entre 0 et 1 (toujour entre 0 et 1(exclus))\n",
    "        - `rng.uniform` : distribution uniforme de réels (minimum et maximum)\n",
    "        - `rng.normal` : distribution normale de réels (moyenne et écart type) \n",
    "         \n",
    "    - il existe aussi plusieurs fonctions utilitaires intéressantes :\n",
    "        - `rng.choice` : sélectionne aléatoirement certaines valeurs\n",
    "        - `rng.shuffle` : mélange aléatoirement une matrice        "
   ]
  },
  {
   "cell_type": "markdown",
   "id": "6d2da2c5",
   "metadata": {},
   "source": [
    "question aouvant vue en entrevue \n",
    "\n",
    "il y 7 valeurs est je dois selectionner 2 valeurs de maniere aleatoire \n",
    "ou melanger une liste\n"
   ]
  },
  {
   "cell_type": "code",
   "execution_count": 27,
   "id": "0c2563d3",
   "metadata": {
    "colab": {
     "base_uri": "https://localhost:8080/"
    },
    "executionInfo": {
     "elapsed": 107,
     "status": "ok",
     "timestamp": 1633088624754,
     "user": {
      "displayName": "Jean-Christophe Demers",
      "photoUrl": "https://lh3.googleusercontent.com/a/default-user=s64",
      "userId": "13622530223392298728"
     },
     "user_tz": 240
    },
    "id": "civic-diesel",
    "outputId": "152f6f99-5c62-4da6-c1c0-ffd27af402a4",
    "scrolled": true
   },
   "outputs": [
    {
     "name": "stdout",
     "output_type": "stream",
     "text": [
      "------------------------------------------------------------- [0.0..1.0] : 2 x 3\n",
      "-------------------------------------------------------------- rng.random((2,3))\n",
      "[[0.68235186 0.05382102 0.22035987]\n",
      " [0.18437181 0.1759059  0.81209451]]\n",
      "--------------------------------------------------------------- [10..20] : 2 x 4\n",
      "---------------------------------------------------- rng.integers(10, 20, (2,4))\n",
      "[[14 19 14 12]\n",
      " [17 18 18 18]]\n",
      "------------------------------------------------------------ [-5.0..5.0] : 2 x 4\n",
      "------------------------------------------------------ rng.uniform(-5, 5, (2,4))\n",
      "[[ 0.12970455 -2.55035399  3.24241596 -2.86237037]\n",
      " [ 2.41467052  1.29940205  4.27407259 -2.68091811]]\n",
      "---------------------------------------------------------- dist. normale : 2 x 3\n",
      "--------------------------------------------------- rng.normal(10.0, 1.5, (2,3))\n",
      "[[ 9.53230772 10.50665369  6.68879335]\n",
      " [11.24188216 12.31244559 11.69021019]]\n",
      "--------------------------------------------------------------------------- test\n",
      "[  0  10  20  30  40  50  60  70  80  90 100]\n",
      "------------------------------------------------------------ rng.choice(test, 3)\n",
      "[40 20 30]\n",
      "-------------------------------------------------------------- rng.shuffle(test)\n",
      "[ 80  90   0  50 100  10  70  60  40  20  30]\n"
     ]
    }
   ],
   "source": [
    "rng = np.random.default_rng(123)\n",
    "\n",
    "print_demo('[0.0..1.0] : 2 x 3', 'rng.random((2,3))')\n",
    "print_demo('[10..20] : 2 x 4', 'rng.integers(10, 20, (2,4))')\n",
    "print_demo('[-5.0..5.0] : 2 x 4', 'rng.uniform(-5, 5, (2,4))')\n",
    "print_demo('dist. normale : 2 x 3', 'rng.normal(10.0, 1.5, (2,3))')\n",
    "\n",
    "test = np.arange(0, 110, 10)\n",
    "print_result('test')\n",
    "print_result('rng.choice(test, 3)')\n",
    "rng.shuffle(test) # la fonction shuffle modifie le tableau original sans rien retourner\n",
    "print_title('rng.shuffle(test)') # esque les shuffle modifie la matrice original ou retourne une nouvelle matrice ...\n",
    "print(test)"
   ]
  },
  {
   "cell_type": "markdown",
   "id": "23732820",
   "metadata": {
    "id": "digital-community"
   },
   "source": [
    "## Interprétation\n",
    "\n",
    "Quelques fonctions sont disponibles pour modifier la forme de la matrice :\n",
    " - `reshape` : défini une autre forme pour la matrice\n",
    " - `flatten` : retourne une matrice équivalente à 1 dimension\n",
    "\n",
    "Il est aussi possible de retourner une matrice équivalente ayant un type différent :\n",
    " - `astype` : défini une autre forme pour la matrice\n"
   ]
  },
  {
   "cell_type": "code",
   "execution_count": 17,
   "id": "6f213803",
   "metadata": {
    "colab": {
     "base_uri": "https://localhost:8080/"
    },
    "executionInfo": {
     "elapsed": 5,
     "status": "ok",
     "timestamp": 1633088624754,
     "user": {
      "displayName": "Jean-Christophe Demers",
      "photoUrl": "https://lh3.googleusercontent.com/a/default-user=s64",
      "userId": "13622530223392298728"
     },
     "user_tz": 240
    },
    "id": "boolean-example",
    "outputId": "cc092029-d11c-4050-e8da-e367652ee75f"
   },
   "outputs": [
    {
     "name": "stdout",
     "output_type": "stream",
     "text": [
      "--------------------------------------------------------------------------- data\n",
      "[ 0  1  2  3  4  5  6  7  8  9 10 11 12 13 14 15 16 17 18 19 20 21 22 23]\n",
      "----------------------------------------------------------- data.reshape((2,12))\n",
      "[[ 0  1  2  3  4  5  6  7  8  9 10 11]\n",
      " [12 13 14 15 16 17 18 19 20 21 22 23]]\n",
      "----------------------------------------------------------- data.reshape((12,2))\n",
      "[[ 0  1]\n",
      " [ 2  3]\n",
      " [ 4  5]\n",
      " [ 6  7]\n",
      " [ 8  9]\n",
      " [10 11]\n",
      " [12 13]\n",
      " [14 15]\n",
      " [16 17]\n",
      " [18 19]\n",
      " [20 21]\n",
      " [22 23]]\n",
      "------------------------------------------------------------ data.reshape((4,6))\n",
      "[[ 0  1  2  3  4  5]\n",
      " [ 6  7  8  9 10 11]\n",
      " [12 13 14 15 16 17]\n",
      " [18 19 20 21 22 23]]\n",
      "------------------------------------------------------------ data.reshape((6,4))\n",
      "[[ 0  1  2  3]\n",
      " [ 4  5  6  7]\n",
      " [ 8  9 10 11]\n",
      " [12 13 14 15]\n",
      " [16 17 18 19]\n",
      " [20 21 22 23]]\n",
      "---------------------------------------------------------- data.reshape((2,3,4))\n",
      "[[[ 0  1  2  3]\n",
      "  [ 4  5  6  7]\n",
      "  [ 8  9 10 11]]\n",
      "\n",
      " [[12 13 14 15]\n",
      "  [16 17 18 19]\n",
      "  [20 21 22 23]]]\n",
      "-------------------------------------------------------- data.reshape((2,2,2,3))\n",
      "[[[[ 0  1  2]\n",
      "   [ 3  4  5]]\n",
      "\n",
      "  [[ 6  7  8]\n",
      "   [ 9 10 11]]]\n",
      "\n",
      "\n",
      " [[[12 13 14]\n",
      "   [15 16 17]]\n",
      "\n",
      "  [[18 19 20]\n",
      "   [21 22 23]]]]\n",
      "------------------------------------------------- data.reshape((2,12)).flatten()\n",
      "[ 0  1  2  3  4  5  6  7  8  9 10 11 12 13 14 15 16 17 18 19 20 21 22 23]\n",
      "-------------------------------------------------------- data.astype(np.float64)\n",
      "[ 0.  1.  2.  3.  4.  5.  6.  7.  8.  9. 10. 11. 12. 13. 14. 15. 16. 17.\n",
      " 18. 19. 20. 21. 22. 23.]\n"
     ]
    }
   ],
   "source": [
    "data = np.arange(24)\n",
    "print_result('data')\n",
    "print_result('data.reshape((2,12))')\n",
    "print_result('data.reshape((12,2))')\n",
    "print_result('data.reshape((4,6))')\n",
    "print_result('data.reshape((6,4))')\n",
    "print_result('data.reshape((2,3,4))')\n",
    "print_result('data.reshape((2,2,2,3))')\n",
    "print_result('data.reshape((2,12)).flatten()')\n",
    "\n",
    "print_result('data.astype(np.float64)')"
   ]
  },
  {
   "cell_type": "markdown",
   "id": "2efe5dd7",
   "metadata": {
    "id": "continuing-field"
   },
   "source": [
    "### Indexation\n",
    "\n",
    "Comme pour les listes de Python, plusieurs techniques d'indexation sont possibles :\n",
    " - accès direct : avec `[]`\n",
    " - _slicing_: avec `[ _from_ : _until_ : _step_ ]`\n",
    " - par sélection :\n",
    "    - avec `[[0,1]]` # par les index désirés\n",
    "    - avec `[[True, False, True, ...]]` # par les éléments de la matrices désirés - ici la taille de la matrice d'indexation doit être la même que celle de la matrice référée"
   ]
  },
  {
   "cell_type": "code",
   "execution_count": 29,
   "id": "b7c166cb",
   "metadata": {
    "colab": {
     "base_uri": "https://localhost:8080/"
    },
    "executionInfo": {
     "elapsed": 3,
     "status": "ok",
     "timestamp": 1633088624754,
     "user": {
      "displayName": "Jean-Christophe Demers",
      "photoUrl": "https://lh3.googleusercontent.com/a/default-user=s64",
      "userId": "13622530223392298728"
     },
     "user_tz": 240
    },
    "id": "future-dealing",
    "outputId": "f0e24582-c068-41c7-e4b8-d7a745fd91ca"
   },
   "outputs": [
    {
     "name": "stdout",
     "output_type": "stream",
     "text": [
      "------------------------------------------------------------------------------ -\n",
      "--------------------------------------------------------------------------- data\n",
      "[10 11 12 13 14 15 16 17 18 19 20 21]\n",
      "------------------------------------------------------------------------ data[0]\n",
      "10\n",
      "---------------------------------------------------------------------- data[4:8]\n",
      "[14 15 16 17]\n",
      "------------------------------------------------------------------- data[0:12:4]\n",
      "[10 14 18]\n",
      "------------------------------------------------------------------ data[10:5:-1]\n",
      "[20 19 18 17 16]\n",
      "------------------------------------------------------------------ data[[0,5,7]]\n",
      "[10 15 17]\n",
      " data[[True, True, True, False, False, False, False, False, False, True, True, True]]\n",
      "[10 11 12 19 20 21]\n",
      "------------------------------------------------------------------------------ -\n",
      "--------------------------------------------------------------------------- data\n",
      "[[[ 0  1  2]\n",
      "  [ 3  4  5]\n",
      "  [ 6  7  8]]\n",
      "\n",
      " [[ 9 10 11]\n",
      "  [12 13 14]\n",
      "  [15 16 17]]\n",
      "\n",
      " [[18 19 20]\n",
      "  [21 22 23]\n",
      "  [24 25 26]]]\n",
      "------------------------------------------------------------------------ data[1]\n",
      "[[ 9 10 11]\n",
      " [12 13 14]\n",
      " [15 16 17]]\n",
      "-------------------------------------------------------------------- data[2,1,0]\n",
      "21\n",
      "------------------------------------------------------------------ data[0][1][2]\n",
      "5\n",
      "-------------------------------------------------------------------- data[0,:,:]\n",
      "[[0 1 2]\n",
      " [3 4 5]\n",
      " [6 7 8]]\n",
      "-------------------------------------------------------------------- data[:,0,:]\n",
      "[[ 0  1  2]\n",
      " [ 9 10 11]\n",
      " [18 19 20]]\n",
      "-------------------------------------------------------------------- data[:,:,0]\n",
      "[[ 0  3  6]\n",
      " [ 9 12 15]\n",
      " [18 21 24]]\n",
      "-------------------------------------------------- data[[0,1,2],[0,1,2],[0,1,2]]\n",
      "[ 0 13 26]\n",
      "---------------------------------------------------------------- data[0,0:2,0:2]\n",
      "[[0 1]\n",
      " [3 4]]\n",
      "-------------------------------------------------------------------- data[0,...]\n",
      "[[0 1 2]\n",
      " [3 4 5]\n",
      " [6 7 8]]\n",
      "-------------------------------------------------------------------- data[...,0]\n",
      "[[ 0  3  6]\n",
      " [ 9 12 15]\n",
      " [18 21 24]]\n",
      "-------------------------------------------------------------------- data[:,:,0]\n",
      "[[ 0  3  6]\n",
      " [ 9 12 15]\n",
      " [18 21 24]]\n",
      "------------------------------------------------------------------------------ -\n",
      "--------------------------------------------------------------------------- data\n",
      "[[ 0  1  2  3  4  5]\n",
      " [ 6  7  8  9 10 11]\n",
      " [12 13 14 15 16 17]\n",
      " [18 19 20 21 22 23]]\n",
      "------------------------------------------------------------- data[3:0:-1,1:6:2]\n",
      "[[19 21 23]\n",
      " [13 15 17]\n",
      " [ 7  9 11]]\n"
     ]
    }
   ],
   "source": [
    "data = np.arange(10, 22)\n",
    "print_title('-')\n",
    "print_result('data')\n",
    "print_result('data[0]')\n",
    "print_result('data[4:8]')\n",
    "print_result('data[0:12:4]')\n",
    "print_result('data[10:5:-1]')\n",
    "# selection par index\n",
    "print_result('data[[0,5,7]]')\n",
    "# selection par element   \n",
    "print_result('data[[True, True, True, False, False, False, False, False, False, True, True, True]]') # le premier [crochet d'indexiation[definition de la liste  ] ]\n",
    "\n",
    "data = np.arange(3 * 3 * 3).reshape(3,3,3)\n",
    "print_title('-')\n",
    "print_result('data')\n",
    "print_result('data[1]')\n",
    "print_result('data[2,1,0]') # c'est le meme resultat si je fait crochet qui suis \n",
    "print_result('data[0][1][2]')\n",
    "print_result('data[0,:,:]')\n",
    "print_result('data[:,0,:]')\n",
    "print_result('data[:,:,0]')\n",
    "print_result('data[[0,1,2],[0,1,2],[0,1,2]]')\n",
    "print_result('data[0,0:2,0:2]')\n",
    "print_result('data[0,...]')\n",
    "print_result('data[...,0]')\n",
    "print_result('data[:,:,0]')\n",
    "\n",
    "data = np.arange(24).reshape(4,6)\n",
    "print_title('-')\n",
    "print_result('data')\n",
    "print_result('data[3:0:-1,1:6:2]')"
   ]
  },
  {
   "cell_type": "markdown",
   "id": "7f5e8be0",
   "metadata": {
    "id": "infectious-estate"
   },
   "source": [
    "## Vectorisation\n",
    "\n",
    "La vectorisation (ou _vectorization_) est une technique qui consiste à réaliser certaines opérations élément par élément sur toute les données. Cette approche apporte des impacts perceptibles profonds :\n",
    "- par la façon de programmer (paradigme _array programming_), sans appels explicites de boucle de parcours\n",
    "- par le niveau de performance atteint, optimisation interne et parallélisation (voir [Taxonomie de Flynn](https://fr.wikipedia.org/wiki/Taxonomie_de_Flynn) et plus spécifiquement la notion de `SIMD`)\n",
    " \n",
    "On retrouve la notion de vectorisation partout avec `NumPy` :\n",
    " - les opérateurs, attention, pas tous!\n",
    " - toutes les techniques d'indexation présentées (indexation => opérateur)\n",
    " - les méthodes de la classe `numpy.ndarray` (`my_array.sum()` par exemple)\n",
    " - les fonctions universelles de `NumPy` (`np.sum(my_array)` par exemple)\n",
    "\n",
    "Avec cette approche, l'écriture du code est particulièrement compact et efficace. Un ensemble de règles doivent cependant être respectées mais, avec un peu de pratique, il est relativement intuitif d'utiliser cet outil incontournable.\n",
    "\n",
    "La _vectorization_ est réalisée :\n",
    " - par :\n",
    "    - les opérateurs :\n",
    "      - aritmétiques : `+`*, `-`*, `*`, `/`, `//`, `%`, `divmod`, `**`. `pow`, `<<`, `>>`, `&`, `^`, `|`, `~`  (\\* version unaire et binaire)\n",
    "      - aritmétiques avec assignation : `+=`, `-=`, `*=`, `/=`, `//=`, `%=`, `**=`. `<<=`, `>>=`, `&=`, `^=`, `|=`\n",
    "      - de comparison : `==`, `<`, `>`, `<=`, `>=`, `!=`\n",
    "      - quelques autres comme `abs(...)`\n",
    "    - les méthodes de la classe `numpy.ndarray` ([voir](https://numpy.org/doc/stable/reference/arrays.ndarray.html#array-methods))\n",
    "    - les [fonctions universelles](https://numpy.org/doc/stable/reference/ufuncs.html)\n",
    " - avec ces conditions :\n",
    "    - de matrices de tailles compatibles\n",
    "    - entre une matrice et un scalaire (une seule valeur)\n",
    "\n",
    "\n",
    "\n",
    "_attention, le mot 'vectorization' a plusieurs sens en informatique_"
   ]
  },
  {
   "cell_type": "code",
   "execution_count": null,
   "id": "8b501dd0",
   "metadata": {
    "colab": {
     "base_uri": "https://localhost:8080/"
    },
    "executionInfo": {
     "elapsed": 120,
     "status": "ok",
     "timestamp": 1633088624872,
     "user": {
      "displayName": "Jean-Christophe Demers",
      "photoUrl": "https://lh3.googleusercontent.com/a/default-user=s64",
      "userId": "13622530223392298728"
     },
     "user_tz": 240
    },
    "id": "promotional-quebec",
    "outputId": "61bdaaf9-88fa-4369-c505-fa8d72242b9d",
    "scrolled": true
   },
   "outputs": [
    {
     "name": "stdout",
     "output_type": "stream",
     "text": [
      "-------------------------------------------------------------------------- data1\n",
      "[[ 0  1  2  3]\n",
      " [ 4  5  6  7]\n",
      " [ 8  9 10 11]]\n",
      "-------------------------------------------------------------------------- data2\n",
      "[[10 11 12 13]\n",
      " [14 15 16 17]\n",
      " [18 19 20 21]]\n",
      "------------------------------------------------------------------ data1 + data2\n",
      "[[10 12 14 16]\n",
      " [18 20 22 24]\n",
      " [26 28 30 32]]\n",
      "------------------------------------------------------------------ data1 * data2\n",
      "[[  0  11  24  39]\n",
      " [ 56  75  96 119]\n",
      " [144 171 200 231]]\n",
      "-------------------------------------------------------------------- data1 + 100\n",
      "[[100 101 102 103]\n",
      " [104 105 106 107]\n",
      " [108 109 110 111]]\n",
      "-------------------------------------------------------------------- data1 / 100\n",
      "[[0.   0.01 0.02 0.03]\n",
      " [0.04 0.05 0.06 0.07]\n",
      " [0.08 0.09 0.1  0.11]]\n",
      "--------------------------------------------------------------------- data1 ** 2\n",
      "[[  0   1   4   9]\n",
      " [ 16  25  36  49]\n",
      " [ 64  81 100 121]]\n",
      "---------------------------------------------------------------------- data1 > 5\n",
      "[[False False False False]\n",
      " [False False  True  True]\n",
      " [ True  True  True  True]]\n",
      "--------------------------------------------------------------- data1[data1 > 5]\n",
      "[ 6  7  8  9 10 11]\n"
     ]
    }
   ],
   "source": [
    "# exemples d'opérations mathématiques \n",
    "\n",
    "data1 = np.arange(12).reshape((3,4))\n",
    "data2 = np.arange(10,22).reshape((3,4))\n",
    "\n",
    "print_result('data1')\n",
    "print_result('data2')\n",
    "print_result('data1 + data2')\n",
    "print_result('data1 * data2')\n",
    "print_result('data1 + 100')\n",
    "print_result('data1 / 100')\n",
    "print_result('data1 ** 2')\n",
    "print_result('data1 > 5')\n",
    "print_result('data1[data1 > 5]')"
   ]
  },
  {
   "cell_type": "code",
   "execution_count": null,
   "id": "0a06398e",
   "metadata": {
    "colab": {
     "base_uri": "https://localhost:8080/"
    },
    "executionInfo": {
     "elapsed": 102,
     "status": "ok",
     "timestamp": 1633088624971,
     "user": {
      "displayName": "Jean-Christophe Demers",
      "photoUrl": "https://lh3.googleusercontent.com/a/default-user=s64",
      "userId": "13622530223392298728"
     },
     "user_tz": 240
    },
    "id": "approved-beauty",
    "outputId": "960c3e2f-516d-4ca1-fe72-e394951844dc"
   },
   "outputs": [
    {
     "name": "stdout",
     "output_type": "stream",
     "text": [
      "-------------------------------------------------------------------------- data1\n",
      "[[ 0  1  2  3]\n",
      " [ 4  5  6  7]\n",
      " [ 8  9 10 11]]\n",
      "-------------------------------------------------------------------------- data2\n",
      "[[10 11 12 13]\n",
      " [14 15 16 17]\n",
      " [18 19 20 21]]\n",
      "------------------------------------------------------------------ np.sum(data1)\n",
      "66\n",
      "---------------------------------------------------------- np.sum(data1, axis=0)\n",
      "[12 15 18 21]\n",
      "---------------------------------------------------------- np.sum(data1, axis=1)\n",
      "[ 6 22 38]\n",
      "------------------------------------------------------------------ np.min(data1)\n",
      "0\n",
      "------------------------------------------------------------------ np.max(data1)\n",
      "11\n",
      "----------------------------------------------------------------- np.mean(data1)\n",
      "5.5\n",
      "--------------------------------------------------------------- np.median(data1)\n",
      "5.5\n",
      "------------------------------------------------------------------ np.std(data1)\n",
      "3.452052529534663\n",
      "---------------------------------------- np.sum((data1 - data2)**2, axis=0)**0.5\n",
      "[17.32050808 17.32050808 17.32050808 17.32050808]\n",
      "--------------------------------------- np.degrees(np.cos(data1 / (2. * np.pi)))\n",
      "[[ 57.29577951  56.57165046  54.41756702  50.88797768]\n",
      " [ 46.07209942  40.09166259  33.09783392  25.26739552]\n",
      " [ 16.79827639   7.90454938  -1.18897993 -10.25245554]]\n",
      "-------------------------------------------------------- np.round(data1 ** 2.37)\n",
      "[[  0.   1.   5.  14.]\n",
      " [ 27.  45.  70. 101.]\n",
      " [138. 183. 234. 294.]]\n"
     ]
    }
   ],
   "source": [
    "# exemples de fonctions mathématiques \n",
    "\n",
    "data1 = np.arange(12).reshape((3,4))\n",
    "data2 = np.arange(10,22).reshape((3,4))\n",
    "\n",
    "print_result('data1')\n",
    "print_result('data2')\n",
    "\n",
    "print_result('np.sum(data1)') # on remarque que la somme est globale\n",
    "print_result('np.sum(data1, axis=0)') # on remarque que la somme n'est que pour la 1re dimension\n",
    "print_result('np.sum(data1, axis=1)') # on remarque que la somme n'est que pour la 2e dimension\n",
    "print_result('np.min(data1)')\n",
    "print_result('np.max(data1)')\n",
    "print_result('np.mean(data1)')\n",
    "print_result('np.median(data1)')\n",
    "print_result('np.std(data1)')\n",
    "print_result('np.sum((data1 - data2)**2, axis=0)**0.5')\n",
    "\n",
    "print_result('np.degrees(np.cos(data1 / (2. * np.pi)))')\n",
    "print_result('np.round(data1 ** 2.37)')\n",
    "\n"
   ]
  },
  {
   "cell_type": "markdown",
   "id": "e4f48105",
   "metadata": {
    "id": "fluid-toner"
   },
   "source": [
    "## _Broadcasting_\n",
    "\n",
    "Le _broadcasting_ est une technique issue de la vectorisation applicable à des matrices de tailles différentes. Encore une fois, la technique vise à effectuer des opérations éléments par éléments sans spécifier explicitement les parcours.\n",
    "\n",
    "Quelques règles doivent être respectées pour que le _broadcasting_ s'applique. Prenons l'exemple de matrices 2d :\n",
    " - les tailles sont égales (vectorisation directe)\n",
    " - l'une des tailles est égale à 1\n",
    " \n",
    "Dans le 2e cas, l'opération est alors projetée sur l'axe de taille 1."
   ]
  },
  {
   "cell_type": "code",
   "execution_count": null,
   "id": "575cf2ea",
   "metadata": {
    "colab": {
     "base_uri": "https://localhost:8080/"
    },
    "executionInfo": {
     "elapsed": 4,
     "status": "ok",
     "timestamp": 1633088624971,
     "user": {
      "displayName": "Jean-Christophe Demers",
      "photoUrl": "https://lh3.googleusercontent.com/a/default-user=s64",
      "userId": "13622530223392298728"
     },
     "user_tz": 240
    },
    "id": "employed-south",
    "outputId": "b54699d7-b85a-4e0e-c7e1-42be7a728f61"
   },
   "outputs": [
    {
     "name": "stdout",
     "output_type": "stream",
     "text": [
      "-------------------------------------------------------------------------- data1\n",
      "[[ 0  1  2  3]\n",
      " [ 4  5  6  7]\n",
      " [ 8  9 10 11]]\n",
      "-------------------------------------------------------------------------- data2\n",
      "[ 0 10 20 30]\n",
      "-------------------------------------------------------------------------- data3\n",
      "[[ 0]\n",
      " [10]\n",
      " [20]]\n",
      "------------------------------------------------------------------ data1 + data2\n",
      "[[ 0 11 22 33]\n",
      " [ 4 15 26 37]\n",
      " [ 8 19 30 41]]\n",
      "------------------------------------------------------------------ data1 + data3\n",
      "[[ 0  1  2  3]\n",
      " [14 15 16 17]\n",
      " [28 29 30 31]]\n",
      "------------------------------------------------------------------ data2 + data3\n",
      "[[ 0 10 20 30]\n",
      " [10 20 30 40]\n",
      " [20 30 40 50]]\n"
     ]
    }
   ],
   "source": [
    "data1 = np.arange(12).reshape((3,4))\n",
    "data2 = np.arange(0,40,10)\n",
    "data3 = np.arange(0,30,10).reshape(3,1)\n",
    "\n",
    "print_result('data1')\n",
    "print_result('data2')\n",
    "print_result('data3')\n",
    "\n",
    "print_result('data1 + data2') \n",
    "print_result('data1 + data3')\n",
    "print_result('data2 + data3')"
   ]
  },
  {
   "cell_type": "code",
   "execution_count": null,
   "id": "6088fac8",
   "metadata": {
    "executionInfo": {
     "elapsed": 3,
     "status": "ok",
     "timestamp": 1633088624972,
     "user": {
      "displayName": "Jean-Christophe Demers",
      "photoUrl": "https://lh3.googleusercontent.com/a/default-user=s64",
      "userId": "13622530223392298728"
     },
     "user_tz": 240
    },
    "id": "digital-dylan"
   },
   "outputs": [],
   "source": []
  }
 ],
 "metadata": {
  "colab": {
   "collapsed_sections": [],
   "name": "NumPy I.ipynb",
   "provenance": []
  },
  "kernelspec": {
   "display_name": "Python 3",
   "language": "python",
   "name": "python3"
  },
  "language_info": {
   "codemirror_mode": {
    "name": "ipython",
    "version": 3
   },
   "file_extension": ".py",
   "mimetype": "text/x-python",
   "name": "python",
   "nbconvert_exporter": "python",
   "pygments_lexer": "ipython3",
   "version": "3.13.3"
  }
 },
 "nbformat": 4,
 "nbformat_minor": 5
}
