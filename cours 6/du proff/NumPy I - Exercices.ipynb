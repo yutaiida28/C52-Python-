{
 "cells": [
  {
   "cell_type": "markdown",
   "id": "tAIS5QN0BXRO",
   "metadata": {
    "id": "tAIS5QN0BXRO"
   },
   "source": [
    "# Statistiques\n",
    "\n",
    "Vous avez les statistiques salariales suivantes :\n"
   ]
  },
  {
   "cell_type": "code",
   "execution_count": 178,
   "id": "digital-dylan",
   "metadata": {
    "executionInfo": {
     "elapsed": 2,
     "status": "ok",
     "timestamp": 1633092400439,
     "user": {
      "displayName": "Jean-Christophe Demers",
      "photoUrl": "https://lh3.googleusercontent.com/a/default-user=s64",
      "userId": "13622530223392298728"
     },
     "user_tz": 240
    },
    "id": "digital-dylan"
   },
   "outputs": [],
   "source": [
    "salaire_horaire = [ 9.50, 33.50, 30.25, 10.75, 41.50, 16.75, 18.00, 15.50, 21.00,\n",
    "                   15.25, 21.50, 38.00, 25.25, 42.00, 25.00, 18.75, 37.25, 38.50,\n",
    "                   40.00, 41.00]\n",
    "heures_par_semaine = 37.5           # nombre d'heures travaillées par semaine\n",
    "semaine_par_annee = 52              # nombre de semaines payées par année"
   ]
  },
  {
   "cell_type": "markdown",
   "id": "wNd0q7oHDsLt",
   "metadata": {
    "id": "wNd0q7oHDsLt"
   },
   "source": [
    "## 1) On vous demande de : \n",
    " 1. calculer la masse salariale hebdomaraire\n",
    " 1. calculer la moyenne salariale annuelle\n",
    " 1. calculer le salaire horaire médian\n",
    " 1. produire la liste de tous les salaires inférieurs à 15.50 \\$/heure\n",
    " 1. calculer combien d'employé font au moins 30.00 \\$/heure\n",
    " 1. calculer le coût annuel d'une augmentation de la masse salariale de 2.5% uniquement pour les employés faisant moins de 25.00 \\$/heure\n",
    "\n",
    "Les résultats attendus sont :\n",
    "<pre>\n",
    "01) Masse salariale hebdomaraire :\n",
    "    20221.88 $\n",
    "02) Moyenne salariale annuelle :\n",
    "    52576.88 $\n",
    "03) Salaire horaire médian :\n",
    "    25.12 $\n",
    "04) Salaires inférieurs à 15.5 $/h :\n",
    "    9.50 $  -  10.75 $  -  15.25 $\n",
    "05) Nombre d'employés avec salaire >= 30 $/h :\n",
    "    9\n",
    "06) Coût d'une augmentation de 2.5% pour salaires < 25 $/h :\n",
    "    7166.25 $\n",
    "</pre>"
   ]
  },
  {
   "cell_type": "code",
   "execution_count": 179,
   "id": "6y42CIbhEwyi",
   "metadata": {
    "colab": {
     "base_uri": "https://localhost:8080/"
    },
    "executionInfo": {
     "elapsed": 135,
     "status": "ok",
     "timestamp": 1633092479997,
     "user": {
      "displayName": "Jean-Christophe Demers",
      "photoUrl": "https://lh3.googleusercontent.com/a/default-user=s64",
      "userId": "13622530223392298728"
     },
     "user_tz": 240
    },
    "id": "6y42CIbhEwyi",
    "outputId": "edfafbf6-fcf5-413f-da8b-cfeadfdaea02"
   },
   "outputs": [
    {
     "name": "stdout",
     "output_type": "stream",
     "text": [
      "réponse 52\n"
     ]
    }
   ],
   "source": [
    "print(f'réponse {semaine_par_annee}')\n",
    "import numpy as np\n",
    "salaire_horaire = np.array(salaire_horaire)"
   ]
  },
  {
   "cell_type": "markdown",
   "id": "c6c3237d",
   "metadata": {},
   "source": [
    "### Réponce 6"
   ]
  },
  {
   "cell_type": "code",
   "execution_count": 180,
   "id": "d9d9b72b",
   "metadata": {},
   "outputs": [
    {
     "name": "stdout",
     "output_type": "stream",
     "text": [
      "7166.25\n"
     ]
    }
   ],
   "source": [
    "data = (salaire_horaire < 25)\n",
    "data1 =  np.sum((salaire_horaire[data] * .025)) * heures_par_semaine * semaine_par_annee\n",
    "print(data1)"
   ]
  },
  {
   "cell_type": "markdown",
   "id": "b0ad6089",
   "metadata": {},
   "source": [
    "### Réponce 5"
   ]
  },
  {
   "cell_type": "code",
   "execution_count": 181,
   "id": "56e4c975",
   "metadata": {},
   "outputs": [
    {
     "name": "stdout",
     "output_type": "stream",
     "text": [
      "9\n"
     ]
    }
   ],
   "source": [
    "data = (salaire_horaire >= 30)\n",
    "data1 = salaire_horaire[data]\n",
    "print(data1.size)"
   ]
  },
  {
   "cell_type": "markdown",
   "id": "6779c033",
   "metadata": {},
   "source": [
    "### Réponce 4"
   ]
  },
  {
   "cell_type": "code",
   "execution_count": 182,
   "id": "14d60cbd",
   "metadata": {},
   "outputs": [
    {
     "name": "stdout",
     "output_type": "stream",
     "text": [
      "[ 9.5  10.75 15.25]\n"
     ]
    }
   ],
   "source": [
    "data = (salaire_horaire < 15.50)\n",
    "data1 = salaire_horaire[data]\n",
    "print (data1)"
   ]
  },
  {
   "cell_type": "markdown",
   "id": "2d46df5a",
   "metadata": {},
   "source": [
    "### Réponce 3\n"
   ]
  },
  {
   "cell_type": "code",
   "execution_count": 183,
   "id": "06116acd",
   "metadata": {},
   "outputs": [
    {
     "name": "stdout",
     "output_type": "stream",
     "text": [
      "25.125\n"
     ]
    }
   ],
   "source": [
    "data = np.median(salaire_horaire)\n",
    "\n",
    "print(data)"
   ]
  },
  {
   "cell_type": "markdown",
   "id": "87147cbb",
   "metadata": {},
   "source": [
    "### Réponce 2"
   ]
  },
  {
   "cell_type": "code",
   "execution_count": 184,
   "id": "296b2ffe",
   "metadata": {},
   "outputs": [
    {
     "name": "stdout",
     "output_type": "stream",
     "text": [
      "52576.875\n"
     ]
    }
   ],
   "source": [
    "data = salaire_horaire  * heures_par_semaine\n",
    "\n",
    "data1 = (data * semaine_par_annee )\n",
    "data2 = np.sum(data1) / data.size\n",
    "print(data2)"
   ]
  },
  {
   "cell_type": "markdown",
   "id": "f3fcec0f",
   "metadata": {},
   "source": [
    "### Réponse 1"
   ]
  },
  {
   "cell_type": "code",
   "execution_count": 185,
   "id": "89aceeb9",
   "metadata": {},
   "outputs": [
    {
     "name": "stdout",
     "output_type": "stream",
     "text": [
      "20221.875\n"
     ]
    }
   ],
   "source": [
    "\n",
    "data = (heures_par_semaine) * np.sum(salaire_horaire)\n",
    "print(data)"
   ]
  },
  {
   "cell_type": "markdown",
   "id": "bu4Jwexv0zcp",
   "metadata": {
    "id": "bu4Jwexv0zcp"
   },
   "source": [
    "<hr>\n",
    "\n",
    "# Géométrie\n",
    "\n",
    "Une image binaire est une image pour laquelle chaque pixel est soit 0 ou 1.\n",
    "\n",
    "## 2) On vous demande de créer toutes les fonctions suivantes sans faire de boucle :\n",
    "1. Faites une fonction qui crée une image binaire de dimension paramétrable dont tous les pixels sont initialisés à 0. À vous de déterminer le meilleur type pour ce type d'image.\n",
    "<br>`create_image(size)`\n",
    "<br>&nbsp;&nbsp;&nbsp;- `size` est un tuple indiquant la taille de l'image : `(largeur, hauteur)`.\n",
    "<br>&nbsp;&nbsp;&nbsp;- `return` l'image produite de type `np.ndarray`.\n",
    "1. Faites une fonction qui rempli l'image de la même couleur.\n",
    "<br>`fill(image, color=1)` \n",
    "<br>&nbsp;&nbsp;&nbsp;- `image` est l'image à modifier\n",
    "<br>&nbsp;&nbsp;&nbsp;- `color` la couleur à remplir : `0` ou `1`\n",
    "<br>&nbsp;&nbsp;&nbsp;- `return` rien, cette fonction modifie l'image passé en argument (`image`) \n",
    "1. Faites une fonction qui réinitialise le contenu de l'image (tous les pixels à `0`).\n",
    "<br>`clear(image)` \n",
    "<br>&nbsp;&nbsp;&nbsp;- `image` est l'image à modifier\n",
    "<br>&nbsp;&nbsp;&nbsp;- `return` rien, cette fonction modifie l'image passé en argument (`image`) \n",
    "1. Faites une fonction qui met tous les pixels de l'image à une couleur aléatoire.\n",
    "<br>`randomize(image, percent=0.5)` \n",
    "<br>&nbsp;&nbsp;&nbsp;- `image` est l'image à modifier\n",
    "<br>&nbsp;&nbsp;&nbsp;- `percent` est le pourcentage de pixel à `1` : `[0., 1.]`\n",
    "<br>&nbsp;&nbsp;&nbsp;- `return` rien, cette fonction modifie l'image passé en argument (`image`) \n",
    "1. Faites une fonction qui trace un seul point dans l'image.\n",
    "<br>`draw_point(image, point, color=1)` \n",
    "<br>&nbsp;&nbsp;&nbsp;- `image` est l'image à modifier\n",
    "<br>&nbsp;&nbsp;&nbsp;- `point` un tuple de la coordonnée du point à tracer : `(x, y)`\n",
    "<br>&nbsp;&nbsp;&nbsp;- `color` la couleur à tracer : `0` ou `1`\n",
    "<br>&nbsp;&nbsp;&nbsp;- `return` rien, cette fonction modifie l'image passé en argument (`image`) \n",
    "<br>_si le point se trouve à l'extérieur de l'image, la fonction est sans effet_\n",
    "1. Faites une fonction qui trace un rectangle rempli dans l'image. \n",
    "<br>`draw_rectangle(image, top_left, bottom_right)` \n",
    "<br>&nbsp;&nbsp;&nbsp;- `image` est l'image à modifier\n",
    "<br>&nbsp;&nbsp;&nbsp;- `top_left` un tuple de la coordonnée supérieure gauche : `(x0, y0)`\n",
    "<br>&nbsp;&nbsp;&nbsp;- `bottom_right` un tuple de la coordonnée inférieure droite  : `(x1, y1)`\n",
    "<br>&nbsp;&nbsp;&nbsp;- **attention** `bottom_right` est une frontière exclue\n",
    "<br>&nbsp;&nbsp;&nbsp;- `return` rien, cette fonction modifie l'image passé en argument (`image`) \n",
    "<br>_si le rectangle dépasse l'image tout ou en partie, seulement la partie visible est tracée_\n",
    "1. Faites une fonction qui met tous les pixels de la bordure à 0.\n",
    "<br>`reset_border(image)` \n",
    "<br>&nbsp;&nbsp;&nbsp;- `image` est l'image à modifier\n",
    "<br>&nbsp;&nbsp;&nbsp;- `return` rien, cette fonction modifie l'image passé en argument (`image`) \n",
    "1. Faites une fonction qui trace un point de la couleur spécifiée à une position aléatoire. La position est n'importe où à l'intérieur de l'image.\n",
    "<br>`draw_random_point(image, color=1)` \n",
    "<br>&nbsp;&nbsp;&nbsp;- `image` est l'image à modifier\n",
    "<br>&nbsp;&nbsp;&nbsp;- `color` la couleur à tracer : `0` ou `1`\n",
    "<br>&nbsp;&nbsp;&nbsp;- `return` rien, cette fonction modifie l'image passé en argument (`image`) \n",
    "<br>_cette fonction peut dessiner la même couleur sur un pixel, ce qui n'aura aucun effet visible_\n",
    "1. Faites une fonction qui inverse un point de l'image à une position aléatoire. La position doit être aléatoire parmi les pixels de la couleur donnée.\n",
    "<br>`inverse_random_point(image, color=0)` \n",
    "<br>&nbsp;&nbsp;&nbsp;- `image` est l'image à modifier\n",
    "<br>&nbsp;&nbsp;&nbsp;- `color` est la couleur à considérer pour l'analyse des positions disponibles : `0` ou `1`\n",
    "<br>&nbsp;&nbsp;&nbsp;- `return` rien, cette fonction modifie l'image passé en argument (`image`) \n",
    "<br>_s'il n'existe aucun pixel de la couleur spécifiée, la fonction est sans effet_\n",
    "1. Faites une fonction calculant la distance entre 2 points de l'image.\n",
    "<br>`distance_between_two_points(image)` \n",
    "<br>&nbsp;&nbsp;&nbsp;- `image` est l'image à analyser\n",
    "<br>&nbsp;&nbsp;&nbsp;- `return` un `float` représentant la distance calculée, retourne `None` si l'image ne possède pas strictement deux points\n",
    "<br>_cette fonction considère que toute l'image est à 0 et que seulement 2 points sont à 1 - ainsi, c'est la distance entre ces deux points qui doit être retournée_\n",
    "1. Faites une fonction qui trace un cercle rempli dans l'image.\n",
    "<br>`draw_circle(image, center, radius)` \n",
    "<br>&nbsp;&nbsp;&nbsp;- `image` est l'image à modifier\n",
    "<br>&nbsp;&nbsp;&nbsp;- `center` est une tuple représentant la coordonnée du centre : `(cx, cy)`\n",
    "<br>&nbsp;&nbsp;&nbsp;- `radius` est le rayon du cercle\n",
    "<br>&nbsp;&nbsp;&nbsp;- `return` rien, cette fonction modifie l'image passé en argument (`image`) \n",
    "<br>_si le cercle dépasse l'image tout ou en partie, seulement la partie visible est tracée_\n",
    "1. Considérant qu'une seule forme se trouve dans l'image, faites une fonction qui calcule l'aire de la forme.\n",
    "<br>`area(image)` \n",
    "<br>&nbsp;&nbsp;&nbsp;- `image` est l'image à considérer\n",
    "<br>&nbsp;&nbsp;&nbsp;- `return` un `float` représentant l'aire calculée\n",
    "<br>$$ area = \\sum_{} I_{x,y}, \\forall x,y\\in shape $$\n",
    "<br>où :\n",
    "<br>&nbsp;&nbsp;&nbsp;- $I_{x,y}$ est la valeur de l'image à la coordonnées $x$ et $y$\n",
    "<br>&nbsp;&nbsp;&nbsp;- $x$ est la coordonnées sur les abscisses\n",
    "<br>&nbsp;&nbsp;&nbsp;- $y$ est la coordonnées sur les ordonnées\n",
    "1. Considérant qu'une seule forme se trouve dans l'image, faites une fonction qui calcule le centroïde de la forme.\n",
    "<br>`centroid(image)` \n",
    "<br>&nbsp;&nbsp;&nbsp;- `image` est l'image à considérer\n",
    "<br>&nbsp;&nbsp;&nbsp;- `return` un `tuple` de deux `float` représentant la coordonnée du centroïde.\n",
    "<br>_le centroïde est ce qu'on appel en physique le centre de masse et correspond au point d'équilibre de tous les pixels à 1_\n",
    "<br>$$ centroid = \\left(C_x, C_y\\right) = \\frac{\\left(\\sum x I_{x,y}, \\sum y I_{x,y}\\right)}{area}, \\forall x,y\\in shape $$\n",
    "<br>où :\n",
    "<br>&nbsp;&nbsp;&nbsp;- $I_{x,y}$ est la valeur de l'image à la coordonnées $x$ et $y$\n",
    "<br>&nbsp;&nbsp;&nbsp;- $x$ est la coordonnées sur les abscisses\n",
    "<br>&nbsp;&nbsp;&nbsp;- $y$ est la coordonnées sur les ordonnées\n",
    "1. Considérant qu'une seule forme se trouve dans l'image et que les bordures sont à 0, faites une fonction qui calcule le périmètre de la forme.\n",
    "<br>`perimeter(image)`\n",
    "<br>&nbsp;&nbsp;&nbsp;- `image` est l'image à considérer\n",
    "<br>&nbsp;&nbsp;&nbsp;- `return` un `float` représentant le périmètre de la forme.\n",
    "<br>__attention__ _cet exercice présente un niveau de difficulté __beaucoup__ plus élevé_ __<---__\n"
   ]
  },
  {
   "cell_type": "code",
   "execution_count": null,
   "id": "Vw7UnbS9BtHx",
   "metadata": {
    "id": "Vw7UnbS9BtHx"
   },
   "outputs": [],
   "source": [
    "largeur = 5\n",
    "hauteur = 5\n",
    "size = (largeur, hauteur)\n",
    "# rng = np.random.default_rng(123)\n",
    "\n",
    "\n",
    "\n",
    "# 1\n",
    "def create_image(size):\n",
    "    return(np.zeros(size))\n",
    "#2\n",
    "# def fill_image(image,color):\n",
    "#     if color == 0:\n",
    "#         # image = np.zeros(image.shape)\n",
    "#         image[:] = 0\n",
    "#     elif color == 1:\n",
    "#         # image = np.ones(image.shape)\n",
    "#         image[:] = 1\n",
    "def fill_image(image,color=1):\n",
    "    image[:] = color\n",
    "#3\n",
    "def clear(image):\n",
    "    image[:] = 0\n",
    "#4\n",
    "def randomize(image, percent=0.5):\n",
    "    image[:] = np.random.rand(*image.shape)< percent # le * est une manire de ovrire un tuple donc si un tuple : var = (1 , 3 ) si on met *var c'est comme ecrire (1,3)\n",
    "#5\n",
    "def draw_point(image, point, color):\n",
    "    x, y = point\n",
    "    if 0 <= x < image.shape[0] and 0 <= y < image.shape[1]:  \n",
    "        image[y,x] = color\n",
    "    "
   ]
  },
  {
   "cell_type": "code",
   "execution_count": 188,
   "id": "a56d0d7e",
   "metadata": {},
   "outputs": [
    {
     "name": "stdout",
     "output_type": "stream",
     "text": [
      "[[0. 0. 0. 0. 0.]\n",
      " [0. 0. 0. 0. 0.]\n",
      " [0. 0. 0. 0. 0.]\n",
      " [0. 0. 0. 0. 0.]\n",
      " [0. 0. 0. 0. 0.]]\n",
      "-------------\n",
      "[[1. 1. 1. 1. 1.]\n",
      " [1. 1. 1. 1. 1.]\n",
      " [1. 1. 1. 1. 1.]\n",
      " [1. 1. 1. 1. 1.]\n",
      " [1. 1. 1. 1. 1.]]\n",
      "-------------\n",
      "[[0. 0. 0. 0. 0.]\n",
      " [0. 0. 0. 0. 0.]\n",
      " [0. 0. 0. 0. 0.]\n",
      " [0. 0. 0. 0. 0.]\n",
      " [0. 0. 0. 0. 0.]]\n",
      "-------------\n",
      "[[0. 0. 0. 0. 0.]\n",
      " [0. 0. 0. 0. 0.]\n",
      " [0. 0. 0. 0. 0.]\n",
      " [0. 1. 0. 0. 0.]\n",
      " [0. 0. 0. 0. 0.]]\n",
      "-------------\n"
     ]
    }
   ],
   "source": [
    "image = create_image(size)\n",
    "\n",
    "print(image)\n",
    "print(\"-------------\")\n",
    "\n",
    "fill_image(image,color) #on fait du slicing.... \n",
    "print(image)\n",
    "print(\"-------------\")\n",
    "\n",
    "color = 0\n",
    "clear(image)\n",
    "print(image)\n",
    "print(\"-------------\")\n",
    "\n",
    "percent = 0.5\n",
    "# randomize(image, percent)\n",
    "# print(image)\n",
    "# print(\"-------------\")\n",
    "point = (1,3) \n",
    "color = 1\n",
    "draw_point(image, point, color)\n",
    "print(image)\n",
    "print(\"-------------\")"
   ]
  }
 ],
 "metadata": {
  "colab": {
   "collapsed_sections": [],
   "name": "NumPy I - Exercices.ipynb",
   "provenance": []
  },
  "kernelspec": {
   "display_name": "Python 3",
   "language": "python",
   "name": "python3"
  },
  "language_info": {
   "codemirror_mode": {
    "name": "ipython",
    "version": 3
   },
   "file_extension": ".py",
   "mimetype": "text/x-python",
   "name": "python",
   "nbconvert_exporter": "python",
   "pygments_lexer": "ipython3",
   "version": "3.13.5"
  }
 },
 "nbformat": 4,
 "nbformat_minor": 5
}
